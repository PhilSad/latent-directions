{
 "cells": [
  {
   "cell_type": "code",
   "execution_count": 1,
   "id": "b4f02ba9",
   "metadata": {},
   "outputs": [],
   "source": [
    "import gensim.downloader as api\n",
    "wv = api.load('word2vec-google-news-300')\n",
    "# wv = api.load(\"fasttext-wiki-news-subwords-300\")"
   ]
  },
  {
   "cell_type": "code",
   "execution_count": 2,
   "id": "5a5982d1",
   "metadata": {},
   "outputs": [],
   "source": [
    "with open(\"./top1000_nouns.txt\", \"r\") as f:\n",
    "    all_words = f.read().splitlines()"
   ]
  },
  {
   "cell_type": "code",
   "execution_count": 3,
   "id": "0a6a01b0",
   "metadata": {},
   "outputs": [],
   "source": [
    "import numpy as np\n",
    "from annoy import AnnoyIndex\n",
    "from itertools import combinations\n",
    "\n",
    "# --- Step 1 is the same: Generate pairs and direction vectors ---\n",
    "word_pairs = list(combinations(all_words, 2))\n",
    "valid_pairs = []\n",
    "direction_vectors = []\n",
    "for w1, w2 in word_pairs:\n",
    "    try:\n",
    "        direction = wv[w1] - wv[w2]\n",
    "        # Normalize the vector for cosine similarity search\n",
    "        norm = np.linalg.norm(direction)\n",
    "        if norm > 0:\n",
    "            valid_pairs.append((w1, w2))\n",
    "            direction_vectors.append(\n",
    "                {\n",
    "                    \"pair\": (w1, w2),\n",
    "                    \"vector\": direction / norm\n",
    "                }\n",
    "            )\n",
    "            \n",
    "    except KeyError:\n",
    "        continue\n",
    "\n"
   ]
  },
  {
   "cell_type": "code",
   "execution_count": 4,
   "id": "dacde8a6",
   "metadata": {},
   "outputs": [],
   "source": [
    "import pickle\n",
    "# Save the direction vectors to a file\n",
    "with open(\"direction_vectors.pkl\", \"wb\") as f:\n",
    "    pickle.dump(direction_vectors, f)"
   ]
  },
  {
   "cell_type": "code",
   "execution_count": 1,
   "id": "f53daade",
   "metadata": {},
   "outputs": [],
   "source": [
    "import pickle\n",
    "\n",
    "with open(\"direction_vectors.pkl\", \"rb\") as f:\n",
    "    direction_vectors = pickle.load(f)"
   ]
  },
  {
   "cell_type": "code",
   "execution_count": 2,
   "id": "610e5a59",
   "metadata": {},
   "outputs": [
    {
     "data": {
      "text/plain": [
       "486590"
      ]
     },
     "execution_count": 2,
     "metadata": {},
     "output_type": "execute_result"
    }
   ],
   "source": [
    "len(direction_vectors)"
   ]
  },
  {
   "cell_type": "code",
   "execution_count": 3,
   "id": "f1c2d748",
   "metadata": {},
   "outputs": [],
   "source": [
    "from sklearn.cluster import HDBSCAN\n",
    "from tqdm import tqdm\n",
    "import numpy as np\n",
    "import faiss"
   ]
  },
  {
   "cell_type": "code",
   "execution_count": 4,
   "id": "fb8379d1",
   "metadata": {},
   "outputs": [
    {
     "name": "stderr",
     "output_type": "stream",
     "text": [
      "100%|██████████| 49/49 [00:11<00:00,  4.35it/s]\n"
     ]
    }
   ],
   "source": [
    "# do pca\n",
    "from sklearn.decomposition import PCA, IncrementalPCA\n",
    "batch_size = 10000\n",
    "pca = IncrementalPCA(n_components=64, batch_size=batch_size)\n",
    "for i in tqdm(range(0, len(direction_vectors), batch_size)):\n",
    "    batch = direction_vectors[i:i+batch_size]\n",
    "    vectors = np.array([dv[\"vector\"] for dv in batch])\n",
    "    pca.partial_fit(vectors)\n",
    "X = np.array([dv[\"vector\"] for dv in direction_vectors])\n",
    "X_reduced = pca.transform(X)"
   ]
  },
  {
   "cell_type": "code",
   "execution_count": 5,
   "id": "cd93d1c0",
   "metadata": {},
   "outputs": [],
   "source": [
    "from scipy.sparse import csr_matrix"
   ]
  },
  {
   "cell_type": "code",
   "execution_count": 6,
   "id": "cc0df234",
   "metadata": {},
   "outputs": [],
   "source": [
    "num_vectors = len(X_reduced)\n"
   ]
  },
  {
   "cell_type": "code",
   "execution_count": null,
   "id": "aacbf60d",
   "metadata": {},
   "outputs": [],
   "source": []
  },
  {
   "cell_type": "code",
   "execution_count": null,
   "id": "ae56f8b4",
   "metadata": {},
   "outputs": [],
   "source": []
  },
  {
   "cell_type": "code",
   "execution_count": null,
   "metadata": {},
   "outputs": [
    {
     "ename": "",
     "evalue": "",
     "output_type": "error",
     "traceback": [
      "\u001b[1;31mThe Kernel crashed while executing code in the current cell or a previous cell. \n",
      "\u001b[1;31mPlease review the code in the cell(s) to identify a possible cause of the failure. \n",
      "\u001b[1;31mClick <a href='https://aka.ms/vscodeJupyterKernelCrash'>here</a> for more info. \n",
      "\u001b[1;31mView Jupyter <a href='command:jupyter.viewOutput'>log</a> for further details."
     ]
    }
   ],
   "source": [
    "# print(\"Step 2: Building the Faiss Index (IndexIVFPQ)...\")\n",
    "# # Number of clusters/partitions for the inverted file. A common heuristic is 4*sqrt(N).\n",
    "# nlist = int(4 * np.sqrt(num_vectors))\n",
    "# # Number of sub-quantizers for Product Quantization\n",
    "# m = 8  \n",
    "# # Number of bits per sub-quantizer\n",
    "# bits = 8\n",
    "\n",
    "# # a. Define the coarse quantizer (for partitioning) and the final index\n",
    "# quantizer = faiss.IndexFlatL2(64)  # The coarse quantizer\n",
    "# index = faiss.IndexIVFPQ(quantizer, 64, nlist, m, bits)\n",
    "\n",
    "# # b. Train the index on the data\n",
    "# print(\"Training the index...\")\n",
    "# # start_time = time.time()\n",
    "# index.train(X_reduced)\n",
    "# # end_time = time.time()\n",
    "# # print(f\"Training took {end_time - start_time:.2f} seconds.\")\n",
    "\n",
    "# index.add(X_reduced)\n",
    "\n",
    "# # --- 3. Create a K-Neighbors Graph (Corrected) ---\n",
    "# print(\"Step 3: Finding k-nearest neighbors using Faiss...\")\n",
    "# k_neighbors = 128 \n",
    "\n",
    "# # Search for the k+1 neighbors because the first result for each point is itself.\n",
    "# distances, indices = index.search(X_reduced, k_neighbors + 1)\n",
    "\n",
    "# # a. Build the sparse distance matrix for HDBSCAN (with filtering)\n",
    "# print(\"Constructing the sparse distance matrix...\")\n",
    "\n",
    "# # We are interested in neighbors, so we slice off the first column (the point itself)\n",
    "# neighbor_indices = indices[:, 1:]\n",
    "# neighbor_distances = distances[:, 1:]\n",
    "\n",
    "# # Create a boolean mask to identify valid neighbors (index != -1)\n",
    "# valid_mask = neighbor_indices != -1\n",
    "\n",
    "# # Get the row indices for each valid neighbor\n",
    "# # np.arange creates [0, 1, 2, ...], reshape makes it a column vector,\n",
    "# # and broadcasting expands it to match the shape of neighbor_indices.\n",
    "# rows_template = np.arange(num_vectors).reshape(-1, 1)\n",
    "# broadcasted_rows = np.broadcast_to(rows_template, neighbor_indices.shape)\n",
    "\n",
    "# # Apply the mask to get only the valid rows, columns, and data\n",
    "# rows = broadcasted_rows[valid_mask]\n",
    "# cols = neighbor_indices[valid_mask]\n",
    "# data = neighbor_distances[valid_mask]\n",
    "\n",
    "# # The csr_matrix is a memory-efficient way to store this graph\n",
    "# sparse_distance_matrix = csr_matrix((data, (rows, cols)), shape=(num_vectors, num_vectors))\n",
    "\n",
    "# print(\"Sparse matrix constructed successfully\")"
   ]
  },
  {
   "cell_type": "code",
   "execution_count": null,
   "id": "bccd8854",
   "metadata": {},
   "outputs": [
    {
     "name": "stdout",
     "output_type": "stream",
     "text": [
      "Step 1: Generating sample data...\n",
      "------------------------------\n",
      "Step 2: Building the Annoy Index...\n",
      "Building index took 8.74 seconds.\n",
      "------------------------------\n",
      "Step 3: Finding neighbors and preparing sparse matrix data...\n"
     ]
    }
   ],
   "source": [
    "import numpy as np\n",
    "from annoy import AnnoyIndex\n",
    "from scipy.sparse import csr_matrix\n",
    "import time\n",
    "\n",
    "# --- Prepare Data ---\n",
    "print(\"Step 1: Generating sample data...\")\n",
    "num_vectors = len(direction_vectors)\n",
    "embedding_dim = 64\n",
    "print(\"-\" * 30)\n",
    "\n",
    "# --- 1. Build the Annoy Index ---\n",
    "print(\"Step 2: Building the Annoy Index...\")\n",
    "\n",
    "# a. Initialize the index\n",
    "# 'angular' is cosine distance, which is great for word embeddings.\n",
    "# 'euclidean' is another common choice.\n",
    "f = embedding_dim\n",
    "annoy_index = AnnoyIndex(f, 'angular')\n",
    "\n",
    "# b. Add all items to the index in a loop\n",
    "for i, vec in enumerate(X_reduced):\n",
    "    annoy_index.add_item(i, vec)\n",
    "\n",
    "# c. Build the index\n",
    "# n_trees affects the accuracy/speed trade-off. More trees are more accurate\n",
    "# but result in a larger index and longer build time.\n",
    "start_time = time.time()\n",
    "annoy_index.build(n_trees=50) \n",
    "end_time = time.time()\n",
    "\n",
    "print(f\"Building index took {end_time - start_time:.2f} seconds.\")\n",
    "print(\"-\" * 30)\n",
    "\n",
    "\n",
    "# --- 2. Find Neighbors and Prepare Sparse Matrix Data ---\n",
    "# We loop through every item in the index to find its k-nearest neighbors.\n",
    "print(\"Step 3: Finding neighbors and preparing sparse matrix data...\")\n",
    "k_neighbors = 128\n",
    "\n",
    "rows = []\n",
    "cols = []\n",
    "data = []\n",
    "\n",
    "start_time = time.time()\n",
    "for i in range(num_vectors):\n",
    "    # Find k+1 neighbors (the first result is always the item itself)\n",
    "    # The 'include_distances=True' is crucial.\n",
    "    neighbors, distances = annoy_index.get_nns_by_item(\n",
    "        i, k_neighbors + 1, include_distances=True\n",
    "    )\n",
    "\n",
    "    # For each point, add its neighbors (excluding itself) to our lists\n",
    "    for j in range(1, k_neighbors + 1):\n",
    "        rows.append(i)\n",
    "        cols.append(neighbors[j])\n",
    "        data.append(distances[j])\n",
    "end_time = time.time()\n",
    "print(f\"Neighbor search took {end_time - start_time:.2f} seconds.\")\n",
    "print(\"-\" * 30)\n",
    "\n",
    "\n",
    "# --- 3. Construct the CSR Matrix ---\n",
    "# Create the final sparse matrix from the collected data.\n",
    "print(\"Step 4: Constructing the final sparse distance matrix...\")\n",
    "sparse_distance_matrix = csr_matrix((data, (rows, cols)), shape=(num_vectors, num_vectors))\n",
    "\n",
    "print(\"Sparse distance matrix created successfully.\")\n",
    "print(f\"Shape: {sparse_distance_matrix.shape}\")\n",
    "print(f\"Number of stored elements: {sparse_distance_matrix.nnz}\")\n",
    "\n",
    "# This `sparse_distance_matrix` can now be fed directly into HDBSCAN\n",
    "# with metric='precomputed', exactly as in the previous examples."
   ]
  },
  {
   "cell_type": "code",
   "execution_count": null,
   "id": "9178871e",
   "metadata": {},
   "outputs": [
    {
     "name": "stdout",
     "output_type": "stream",
     "text": [
      "Step 4: Running HDBSCAN with the precomputed distance matrix...\n"
     ]
    },
    {
     "name": "stderr",
     "output_type": "stream",
     "text": [
      "/home/codespace/.local/lib/python3.12/site-packages/sklearn/utils/deprecation.py:151: FutureWarning: 'force_all_finite' was renamed to 'ensure_all_finite' in 1.6 and will be removed in 1.8.\n",
      "  warnings.warn(\n"
     ]
    },
    {
     "ename": "",
     "evalue": "",
     "output_type": "error",
     "traceback": [
      "\u001b[1;31mThe Kernel crashed while executing code in the current cell or a previous cell. \n",
      "\u001b[1;31mPlease review the code in the cell(s) to identify a possible cause of the failure. \n",
      "\u001b[1;31mClick <a href='https://aka.ms/vscodeJupyterKernelCrash'>here</a> for more info. \n",
      "\u001b[1;31mView Jupyter <a href='command:jupyter.viewOutput'>log</a> for further details."
     ]
    }
   ],
   "source": [
    "import hdbscan\n",
    "print(\"Step 4: Running HDBSCAN with the precomputed distance matrix...\")\n",
    "clusterer = hdbscan.HDBSCAN(\n",
    "    metric='precomputed',\n",
    "    min_cluster_size=15,\n",
    "    min_samples=5,\n",
    "    # Other HDBSCAN params can be set here\n",
    ")\n",
    "\n",
    "cluster_labels = clusterer.fit_predict(sparse_distance_matrix)\n",
    "\n",
    "# --- Results ---\n",
    "n_clusters = len(set(cluster_labels)) - (1 if -1 in cluster_labels else 0)\n",
    "n_noise = np.sum(cluster_labels == -1)\n",
    "\n",
    "print(\"-\" * 30)\n",
    "print(f\"Clustering complete.\")\n",
    "print(f\"Number of clusters found: {n_clusters}\")\n",
    "print(f\"Number of noise points: {n_noise}\")"
   ]
  },
  {
   "cell_type": "code",
   "execution_count": null,
   "id": "e3e5a003",
   "metadata": {},
   "outputs": [],
   "source": [
    "from sklearn.cluster import Birch\n",
    "clusterer = Birch(threshold=0.5, n_clusters=None)\n",
    "cluster_labels = clusterer.fit_predict(X)"
   ]
  },
  {
   "cell_type": "code",
   "execution_count": 6,
   "id": "ae2c1777",
   "metadata": {},
   "outputs": [
    {
     "name": "stdout",
     "output_type": "stream",
     "text": [
      "Number of clusters: 18849\n"
     ]
    }
   ],
   "source": [
    "nb_clusters = len(set(cluster_labels)) - (1 if -1 in cluster_labels else 0)\n",
    "print(f\"Number of clusters: {nb_clusters}\")"
   ]
  },
  {
   "cell_type": "code",
   "execution_count": 7,
   "id": "0b79ed09",
   "metadata": {},
   "outputs": [],
   "source": [
    "# # print clusters\n",
    "# for cluster_id in list(cluster_labels)[:10]:\n",
    "#     if cluster_id == -1:\n",
    "#         continue  # Skip noise points\n",
    "#     cluster_indices = np.where(cluster_labels == cluster_id)[0]\n",
    "#     cluster_pairs = [direction_vectors[i][\"pair\"] for i in cluster_indices]\n",
    "#     print(f\"Cluster {cluster_id}: {len(cluster_pairs)} pairs\")\n",
    "#     for pair in cluster_pairs:\n",
    "#         print(f\"  {pair[0]} - {pair[1]}\")\n",
    "#     print()"
   ]
  },
  {
   "cell_type": "code",
   "execution_count": 10,
   "id": "8526cb89",
   "metadata": {},
   "outputs": [
    {
     "name": "stderr",
     "output_type": "stream",
     "text": [
      "100%|██████████| 18849/18849 [00:04<00:00, 4647.66it/s]\n"
     ]
    }
   ],
   "source": [
    "# filter cluster with unique pairs\n",
    "new_clusters = {}\n",
    "for cluster_id in tqdm(set(cluster_labels)):\n",
    "    if cluster_id == -1:\n",
    "        continue  # Skip noise points\n",
    "    cluster_indices = np.where(cluster_labels == cluster_id)[0]\n",
    "    cluster_pairs = [direction_vectors[i][\"pair\"] for i in cluster_indices]\n",
    "    \n",
    "    seen_words = set()\n",
    "    unique_pairs = []\n",
    "    for w1, w2 in cluster_pairs:\n",
    "        if w1 not in seen_words and w2 not in seen_words:\n",
    "            unique_pairs.append((w1, w2))\n",
    "            seen_words.add(w1)\n",
    "            seen_words.add(w2)\n",
    "    new_clusters[cluster_id] = unique_pairs\n",
    "    "
   ]
  },
  {
   "cell_type": "code",
   "execution_count": 17,
   "id": "53e51bb9",
   "metadata": {},
   "outputs": [
    {
     "name": "stdout",
     "output_type": "stream",
     "text": [
      "Number of filtered clusters: 1296\n"
     ]
    }
   ],
   "source": [
    "min_cluster_size = 5\n",
    "filtered_clusters = {k: v for k, v in new_clusters.items() if len(v) >= min_cluster_size}\n",
    "print(f\"Number of filtered clusters: {len(filtered_clusters)}\")"
   ]
  },
  {
   "cell_type": "code",
   "execution_count": 19,
   "id": "229a1a72",
   "metadata": {},
   "outputs": [
    {
     "data": {
      "text/plain": [
       "dict_keys([14, 16, 28, 41, 63, 67, 83, 86, 94, 125, 152, 154, 155, 165, 231, 261, 312, 366, 371, 391, 404, 475, 551, 558, 560, 566, 567, 570, 581, 583, 591, 604, 608, 624, 631, 634, 635, 640, 663, 720, 792, 818, 825, 857, 864, 878, 946, 954, 955, 957, 958, 1019, 1065, 1222, 1223, 1249, 1288, 1298, 1307, 1316, 1348, 1382, 1402, 1403, 1406, 1417, 1454, 1455, 1464, 1467, 1484, 1485, 1501, 1502, 1503, 1505, 1506, 1507, 1508, 1510, 1511, 1515, 1516, 1517, 1518, 1519, 1522, 1525, 1526, 1539, 1540, 1548, 1554, 1555, 1590, 1603, 1614, 1643, 1644, 1717, 1838, 1859, 1896, 1902, 1904, 1905, 1924, 1963, 1966, 2021, 2070, 2075, 2131, 2172, 2173, 2184, 2202, 2220, 2233, 2234, 2235, 2238, 2242, 2244, 2245, 2276, 2277, 2278, 2322, 2323, 2324, 2326, 2327, 2328, 2329, 2331, 2332, 2333, 2334, 2335, 2336, 2345, 2346, 2347, 2349, 2350, 2351, 2356, 2357, 2358, 2363, 2370, 2371, 2372, 2382, 2385, 2389, 2398, 2399, 2402, 2418, 2420, 2422, 2424, 2425, 2427, 2429, 2430, 2431, 2433, 2435, 2438, 2439, 2446, 2467, 2471, 2472, 2473, 2474, 2475, 2476, 2479, 2494, 2511, 2513, 2514, 2515, 2516, 2517, 2518, 2519, 2521, 2526, 2527, 2528, 2530, 2538, 2540, 2546, 2552, 2553, 2559, 2560, 2561, 2565, 2569, 2586, 2588, 2589, 2590, 2591, 2594, 2601, 2604, 2607, 2611, 2612, 2618, 2620, 2621, 2631, 2637, 2638, 2641, 2642, 2644, 2645, 2646, 2649, 2650, 2651, 2652, 2655, 2684, 2694, 2703, 2814, 2816, 2817, 2821, 2851, 2914, 2942, 2984, 2995, 3005, 3022, 3027, 3033, 3034, 3037, 3061, 3091, 3190, 3233, 3235, 3298, 3315, 3327, 3357, 3369, 3370, 3409, 3421, 3462, 3469, 3497, 3562, 3587, 3642, 3689, 3695, 3719, 3721, 3750, 3788, 3795, 3796, 3797, 3814, 3847, 3861, 3875, 3898, 3907, 3938, 3941, 3946, 3956, 3964, 3965, 3998, 4044, 4053, 4086, 4091, 4105, 4112, 4120, 4151, 4203, 4214, 4235, 4238, 4240, 4250, 4260, 4268, 4280, 4281, 4295, 4303, 4343, 4345, 4356, 4382, 4419, 4430, 4445, 4463, 4464, 4470, 4472, 4533, 4575, 4597, 4693, 4694, 4698, 4702, 4704, 4714, 4782, 4807, 4817, 4822, 4826, 4838, 4845, 4870, 4884, 4906, 4917, 4931, 4932, 4939, 5026, 5030, 5036, 5055, 5091, 5123, 5182, 5184, 5198, 5199, 5206, 5216, 5231, 5234, 5261, 5276, 5285, 5342, 5348, 5392, 5428, 5461, 5497, 5505, 5540, 5553, 5572, 5616, 5643, 5711, 5753, 5792, 5795, 5816, 5817, 5952, 6009, 6023, 6045, 6046, 6047, 6048, 6049, 6050, 6051, 6052, 6053, 6054, 6056, 6061, 6062, 6063, 6064, 6066, 6067, 6077, 6094, 6107, 6108, 6110, 6111, 6139, 6187, 6191, 6194, 6198, 6201, 6202, 6211, 6222, 6236, 6239, 6241, 6244, 6245, 6251, 6284, 6289, 6293, 6294, 6295, 6313, 6316, 6318, 6328, 6362, 6450, 6451, 6452, 6495, 6497, 6498, 6499, 6500, 6501, 6502, 6532, 6533, 6534, 6535, 6536, 6538, 6539, 6547, 6548, 6558, 6584, 6608, 6644, 6647, 6648, 6649, 6659, 6662, 6663, 6668, 6669, 6676, 6696, 6709, 6722, 6764, 6773, 6774, 6808, 6811, 6836, 6837, 6861, 6864, 6891, 6895, 6896, 6910, 6935, 6965, 6966, 6967, 6968, 6969, 6970, 6975, 6977, 6990, 6991, 6994, 7006, 7026, 7103, 7139, 7219, 7246, 7271, 7276, 7294, 7304, 7309, 7313, 7346, 7433, 7490, 7517, 7518, 7524, 7623, 7625, 7667, 7677, 7685, 7687, 7696, 7750, 7764, 7777, 7787, 7788, 7897, 7908, 7910, 7956, 7988, 8017, 8018, 8027, 8028, 8030, 8059, 8102, 8139, 8142, 8151, 8177, 8178, 8238, 8256, 8325, 8339, 8363, 8385, 8391, 8393, 8426, 8433, 8436, 8468, 8470, 8487, 8520, 8529, 8573, 8634, 8672, 8694, 8720, 8731, 8736, 8748, 8773, 8811, 8829, 8861, 8873, 8878, 8908, 8915, 9048, 9052, 9053, 9055, 9056, 9057, 9058, 9063, 9067, 9069, 9073, 9074, 9075, 9076, 9083, 9087, 9097, 9251, 9312, 9321, 9350, 9385, 9419, 9420, 9421, 9426, 9477, 9537, 9542, 9556, 9590, 9607, 9614, 9616, 9631, 9643, 9644, 9645, 9650, 9652, 9675, 9677, 9684, 9692, 9703, 9705, 9721, 9726, 9738, 9739, 9743, 9767, 9768, 9774, 9775, 9791, 9820, 9831, 9854, 9955, 9964, 9966, 10033, 10057, 10067, 10123, 10130, 10138, 10183, 10210, 10217, 10260, 10262, 10263, 10266, 10268, 10274, 10382, 10432, 10445, 10448, 10481, 10524, 10545, 10555, 10566, 10655, 10674, 10683, 10699, 10729, 10781, 10783, 10799, 10870, 10889, 10922, 10926, 11003, 11019, 11045, 11051, 11052, 11054, 11057, 11062, 11064, 11069, 11082, 11084, 11089, 11092, 11139, 11159, 11162, 11163, 11227, 11238, 11269, 11280, 11304, 11335, 11338, 11340, 11343, 11357, 11360, 11362, 11367, 11373, 11391, 11399, 11404, 11430, 11431, 11433, 11434, 11436, 11437, 11438, 11439, 11474, 11475, 11481, 11483, 11485, 11487, 11488, 11489, 11491, 11521, 11562, 11583, 11584, 11585, 11591, 11595, 11602, 11607, 11626, 11628, 11630, 11638, 11640, 11641, 11645, 11649, 11651, 11653, 11658, 11660, 11667, 11691, 11701, 11722, 11724, 11740, 11741, 11815, 11816, 11818, 11824, 11858, 11862, 11875, 11886, 11928, 11934, 12021, 12039, 12060, 12102, 12105, 12131, 12182, 12196, 12198, 12203, 12214, 12217, 12219, 12242, 12277, 12278, 12279, 12282, 12284, 12287, 12288, 12301, 12305, 12324, 12328, 12330, 12335, 12336, 12338, 12340, 12343, 12346, 12348, 12355, 12359, 12361, 12362, 12363, 12367, 12368, 12369, 12371, 12446, 12452, 12518, 12573, 12591, 12595, 12687, 12696, 12704, 12705, 12754, 12755, 12759, 12761, 12762, 12777, 12785, 12789, 12792, 12797, 12856, 12857, 12869, 12870, 12895, 12902, 12928, 12929, 12966, 12971, 12976, 12978, 12979, 12980, 12981, 12982, 12983, 12984, 12985, 12986, 12988, 12989, 12992, 12994, 12995, 12999, 13000, 13003, 13004, 13005, 13006, 13007, 13008, 13009, 13029, 13041, 13042, 13050, 13164, 13177, 13182, 13183, 13184, 13227, 13304, 13338, 13386, 13396, 13397, 13401, 13404, 13405, 13407, 13410, 13425, 13432, 13438, 13441, 13442, 13443, 13445, 13447, 13448, 13449, 13451, 13452, 13453, 13458, 13461, 13469, 13471, 13472, 13512, 13518, 13531, 13553, 13556, 13558, 13562, 13563, 13566, 13567, 13570, 13581, 13586, 13594, 13595, 13599, 13605, 13611, 13623, 13625, 13639, 13642, 13653, 13656, 13659, 13688, 13696, 13730, 13736, 13739, 13740, 13741, 13746, 13755, 13780, 13781, 13805, 13815, 13842, 13849, 13863, 13890, 13898, 13899, 13902, 13930, 13934, 13949, 13951, 13957, 13961, 13963, 13973, 13992, 13997, 14000, 14001, 14010, 14011, 14019, 14061, 14078, 14083, 14109, 14122, 14142, 14183, 14229, 14235, 14241, 14243, 14244, 14247, 14250, 14252, 14259, 14266, 14267, 14301, 14307, 14308, 14309, 14312, 14315, 14317, 14321, 14322, 14323, 14333, 14336, 14353, 14360, 14387, 14394, 14398, 14403, 14410, 14417, 14446, 14461, 14503, 14505, 14544, 14562, 14568, 14576, 14581, 14589, 14596, 14598, 14604, 14695, 14700, 14710, 14721, 14722, 14758, 14764, 14766, 14767, 14774, 14788, 14793, 14799, 14806, 14818, 14825, 14826, 14830, 14832, 14887, 14907, 14921, 14922, 14928, 14969, 14970, 14971, 14977, 15025, 15031, 15051, 15093, 15110, 15186, 15199, 15227, 15231, 15253, 15305, 15324, 15326, 15332, 15333, 15342, 15362, 15363, 15366, 15376, 15378, 15397, 15407, 15425, 15465, 15466, 15468, 15470, 15480, 15481, 15507, 15534, 15540, 15547, 15549, 15557, 15574, 15579, 15588, 15589, 15594, 15595, 15618, 15626, 15634, 15640, 15676, 15754, 15762, 15799, 15852, 15902, 15934, 16006, 16051, 16060, 16079, 16095, 16176, 16194, 16215, 16221, 16312, 16371, 16400, 16420, 16437, 16446, 16449, 16470, 16491, 16506, 16524, 16542, 16543, 16574, 16578, 16624, 16627, 16632, 16658, 16689, 16720, 16777, 16778, 16781, 16784, 16786, 16793, 16799, 16800, 16801, 16809, 16815, 16820, 16821, 16844, 16847, 16860, 16864, 16866, 16892, 16921, 16928, 16934, 16939, 16943, 16947, 16958, 16961, 16973, 16976, 16977, 16978, 16980, 16983, 16984, 16989, 17019, 17039, 17041, 17043, 17047, 17051, 17061, 17064, 17068, 17069, 17097, 17119, 17128, 17130, 17139, 17153, 17160, 17162, 17164, 17169, 17201, 17209, 17211, 17212, 17217, 17226, 17246, 17253, 17258, 17268, 17270, 17271, 17272, 17280, 17284, 17321, 17325, 17329, 17410, 17444, 17460, 17471, 17480, 17496, 17519, 17545, 17547, 17591, 17595, 17627, 17628, 17630, 17631, 17638, 17639, 17641, 17642, 17672, 17705, 17706, 17752, 17760, 17764, 17793, 17796, 17848, 17891, 17894, 17969, 17971, 18001, 18035, 18095, 18097, 18102, 18204, 18237, 18264, 18270, 18275, 18286, 18321, 18351, 18353, 18359, 18381, 18412, 18428, 18438, 18558, 18562, 18563, 18565, 18567, 18570, 18587, 18596, 18609, 18618, 18624, 18628, 18633, 18634, 18648, 18665, 18675, 18676, 18677, 18678, 18680, 18682, 18683, 18684, 18685, 18686, 18688, 18689, 18690, 18691, 18692, 18693, 18696, 18697, 18698, 18711, 18720, 18723, 18724, 18725, 18729, 18733, 18735, 18740, 18761, 18762, 18763, 18764, 18765, 18767, 18768, 18769, 18771, 18842, 18846, 18849, 18856])"
      ]
     },
     "execution_count": 19,
     "metadata": {},
     "output_type": "execute_result"
    }
   ],
   "source": [
    "filtered_clusters.keys()"
   ]
  },
  {
   "cell_type": "code",
   "execution_count": 21,
   "id": "235f30a7",
   "metadata": {},
   "outputs": [
    {
     "name": "stdout",
     "output_type": "stream",
     "text": [
      "Cluster containing 'boy': 1464\n",
      "Pairs in this cluster: [('time', 'man'), ('way', 'woman'), ('part', 'girl'), ('course', 'boy'), ('relationship', 'daughter')]\n"
     ]
    }
   ],
   "source": [
    "# find the cluster with \"boy\" in it\n",
    "target_word = \"boy\"\n",
    "target_cluster = None\n",
    "for cluster_id, pairs in filtered_clusters.items():\n",
    "    if any(target_word in pair for pair in pairs):\n",
    "        target_cluster = cluster_id\n",
    "        break\n",
    "if target_cluster is not None:\n",
    "    print(f\"Cluster containing '{target_word}': {target_cluster}\")\n",
    "    print(f\"Pairs in this cluster: {filtered_clusters[target_cluster]}\")"
   ]
  },
  {
   "cell_type": "code",
   "execution_count": 16,
   "id": "8c2a6ffa",
   "metadata": {},
   "outputs": [
    {
     "data": {
      "image/png": "[encoded data removed]",
      "text/plain": [
       "<Figure size 1000x600 with 1 Axes>"
      ]
     },
     "metadata": {},
     "output_type": "display_data"
    }
   ],
   "source": [
    "# plot nb elem per cluster\n",
    "import matplotlib.pyplot as plt\n",
    "cluster_sizes = [len(pairs) for pairs in new_clusters.values()]\n",
    "max_size = max(cluster_sizes)\n",
    "plt.figure(figsize=(10, 6))\n",
    "# histogram\n",
    "plt.hist(cluster_sizes, bins=range(1, max_size + 2), align='left', rwidth=0.8)\n",
    "plt.xlabel('Number of pairs in cluster')\n",
    "plt.ylabel('Number of clusters')\n",
    "plt.title('Distribution of cluster sizes')  \n",
    "plt.show()"
   ]
  }
 ],
 "metadata": {
  "kernelspec": {
   "display_name": "Python 3",
   "language": "python",
   "name": "python3"
  },
  "language_info": {
   "codemirror_mode": {
    "name": "ipython",
    "version": 3
   },
   "file_extension": ".py",
   "mimetype": "text/x-python",
   "name": "python",
   "nbconvert_exporter": "python",
   "pygments_lexer": "ipython3",
   "version": "3.12.1"
  }
 },
 "nbformat": 4,
 "nbformat_minor": 5
}
